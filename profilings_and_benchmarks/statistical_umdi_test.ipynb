{
 "cells": [
  {
   "cell_type": "code",
   "execution_count": 1,
   "id": "73bf6ccb",
   "metadata": {},
   "outputs": [],
   "source": [
    "import numpy as np\n",
    "from sklearn.ensemble import RandomForestRegressor\n",
    "from sklearn.utils import check_random_state\n",
    "from scipy.stats import ttest_1samp\n",
    "\n",
    "global_seed = 0\n",
    "rng = check_random_state(global_seed)\n",
    "\n",
    "n_samples = 1000\n",
    "n_features = 10\n",
    "X = rng.normal(loc = rng.rand(n_samples, n_features), scale=rng.rand(n_samples, n_features), size=(n_samples, n_features))\n",
    "y = rng.exponential(scale=0.5, size=n_samples)"
   ]
  },
  {
   "cell_type": "code",
   "execution_count": 4,
   "id": "86443c77",
   "metadata": {},
   "outputs": [
    {
     "name": "stdout",
     "output_type": "stream",
     "text": [
      "0.8660508125090722\n",
      "5.5131845157852716e-08\n"
     ]
    },
    {
     "data": {
      "text/plain": [
       "(array([-9.80603347e-04, -1.82224057e-03,  1.70589921e-03,  1.86736711e-04,\n",
       "        -7.03558393e-04, -2.04824327e-03, -8.62136289e-04, -1.35780459e-04,\n",
       "         4.18000228e-04,  8.79287661e-05]),\n",
       " array([0.0906432 , 0.09821483, 0.14981738, 0.08760935, 0.11435429,\n",
       "        0.07919415, 0.08608961, 0.09374247, 0.11397586, 0.08635885]))"
      ]
     },
     "execution_count": 4,
     "metadata": {},
     "output_type": "execute_result"
    }
   ],
   "source": [
    "rf = RandomForestRegressor(n_estimators=200, oob_score=True)\n",
    "rf.fit(X, y)\n",
    "print(ttest_1samp(rf._unnormalized_ufi_feature_importances, 0.0, axis=0, alternative=\"greater\").pvalue)\n",
    "print(ttest_1samp(rf.feature_importances_, 0.0, axis=0, alternative=\"greater\").pvalue)\n",
    "rf._unnormalized_ufi_feature_importances, rf.feature_importances_"
   ]
  }
 ],
 "metadata": {
  "kernelspec": {
   "display_name": ".sklearn-env",
   "language": "python",
   "name": "python3"
  },
  "language_info": {
   "codemirror_mode": {
    "name": "ipython",
    "version": 3
   },
   "file_extension": ".py",
   "mimetype": "text/x-python",
   "name": "python",
   "nbconvert_exporter": "python",
   "pygments_lexer": "ipython3",
   "version": "3.12.3"
  }
 },
 "nbformat": 4,
 "nbformat_minor": 5
}
