{
 "cells": [
  {
   "cell_type": "code",
   "execution_count": 1,
   "id": "73bf6ccb",
   "metadata": {},
   "outputs": [],
   "source": [
    "import numpy as np\n",
    "from sklearn.ensemble import RandomForestRegressor\n",
    "from sklearn.utils import check_random_state\n",
    "from scipy.stats import ttest_1samp\n",
    "\n",
    "global_seed = 0\n",
    "rng = check_random_state(global_seed)\n",
    "\n",
    "n_samples = 1000\n",
    "n_features = 10\n",
    "X = rng.normal(loc = rng.rand(n_samples, n_features), scale=rng.rand(n_samples, n_features), size=(n_samples, n_features))\n",
    "y = rng.exponential(scale=0.5, size=n_samples)"
   ]
  },
  {
   "cell_type": "code",
   "execution_count": 3,
   "id": "86443c77",
   "metadata": {},
   "outputs": [
    {
     "name": "stdout",
     "output_type": "stream",
     "text": [
      "0.891813852752049\n",
      "3.0605858516378936e-08\n"
     ]
    },
    {
     "data": {
      "text/plain": [
       "(array([ 0.15321494, -0.71870448,  2.14612747, -1.73194699, -0.60121181,\n",
       "        -3.15579434, -0.36082719,  1.42803516, -2.2076171 , -1.83771608]),\n",
       " array([0.09259264, 0.09402029, 0.14770627, 0.08805191, 0.11565619,\n",
       "        0.08655784, 0.08500309, 0.09696848, 0.10866272, 0.08478058]))"
      ]
     },
     "execution_count": 3,
     "metadata": {},
     "output_type": "execute_result"
    }
   ],
   "source": [
    "rf = RandomForestRegressor(n_estimators=200, oob_score=True)\n",
    "rf.fit(X, y)\n",
    "print(ttest_1samp(rf._unnormalized_ufi_feature_importances, 0.0, axis=0, alternative=\"greater\").pvalue)\n",
    "print(ttest_1samp(rf._unnormalized_feature_importances, 0.0, axis=0, alternative=\"greater\").pvalue)\n",
    "rf._unnormalized_ufi_feature_importances, rf._unnormalized_feature_importances"
   ]
  }
 ],
 "metadata": {
  "kernelspec": {
   "display_name": ".sklearn-env",
   "language": "python",
   "name": "python3"
  },
  "language_info": {
   "codemirror_mode": {
    "name": "ipython",
    "version": 3
   },
   "file_extension": ".py",
   "mimetype": "text/x-python",
   "name": "python",
   "nbconvert_exporter": "python",
   "pygments_lexer": "ipython3",
   "version": "3.12.3"
  }
 },
 "nbformat": 4,
 "nbformat_minor": 5
}
