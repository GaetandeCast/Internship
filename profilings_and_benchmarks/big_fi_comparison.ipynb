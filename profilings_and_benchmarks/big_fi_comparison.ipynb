{
 "cells": [
  {
   "cell_type": "markdown",
   "id": "25e71fbb",
   "metadata": {},
   "source": [
    "# Create a semi-synthetic dataset\n",
    "From an existing dataset, create the target by using a fixed size random sub sample of covariates and taking the predictions of a decision tree on the real output. Sample with the predicted class probabilities in classification or add gaussian noise with variance equal to the variance of the samples in each leaf in regression. We can permute the unimportant features to avoid conditional dependancies."
   ]
  },
  {
   "cell_type": "code",
   "execution_count": 14,
   "id": "2246dd62",
   "metadata": {},
   "outputs": [],
   "source": [
    "import numpy as np\n",
    "\n",
    "from sklearn.tree import DecisionTreeClassifier, DecisionTreeRegressor\n",
    "from sklearn.utils import check_random_state\n",
    "\n",
    "\n",
    "def generate_semi_synth_dataset(\n",
    "    X, y, is_classification, n_important, random_seed, permute=False\n",
    "):\n",
    "    rng = check_random_state(random_seed)\n",
    "    n_samples, n_feature = X.shape\n",
    "    assert n_feature >= n_important\n",
    "    important_feature_indices = rng.choice(n_feature, size=n_important, replace=False)\n",
    "    unimportant_feature_indices = np.setdiff1d(\n",
    "        np.arange(n_feature), important_feature_indices\n",
    "    )\n",
    "    if is_classification:\n",
    "        tree_model = DecisionTreeClassifier(min_samples_leaf=10, random_state=rng)\n",
    "        tree_model.fit(X[:, important_feature_indices], y)\n",
    "        output_leaves = tree_model.apply(X[:, important_feature_indices])\n",
    "        y_new = np.array(\n",
    "            [\n",
    "                rng.multinomial(1, p).argmax()\n",
    "                for p in tree_model.tree_.value[output_leaves].squeeze()\n",
    "            ]\n",
    "        )\n",
    "        X_new = X.copy()\n",
    "        if permute:\n",
    "            X_new[unimportant_feature_indices] = rng.permutation(\n",
    "                X_new[unimportant_feature_indices]\n",
    "            )\n",
    "    else:\n",
    "        tree_model = DecisionTreeRegressor(min_samples_leaf=10, random_state=rng)\n",
    "        tree_model.fit(X[:, important_feature_indices], y)\n",
    "        output_leaves = tree_model.apply(X[:, important_feature_indices])\n",
    "        y_new = np.array(\n",
    "            [\n",
    "                rng.normal(\n",
    "                    mu,\n",
    "                    np.sqrt(\n",
    "                        np.var(y[tree_model.tree_.value[output_leaves].squeeze() == mu])\n",
    "                    ),\n",
    "                )\n",
    "                for mu in tree_model.tree_.value[output_leaves].squeeze()\n",
    "            ]\n",
    "        )\n",
    "        X_new = X.copy()\n",
    "        if permute:\n",
    "            X_new[unimportant_feature_indices] = rng.permutation(\n",
    "                X_new[unimportant_feature_indices]\n",
    "            )\n",
    "    return X_new, y_new, important_feature_indices\n"
   ]
  },
  {
   "cell_type": "code",
   "execution_count": 15,
   "id": "1308b0fd",
   "metadata": {},
   "outputs": [
    {
     "data": {
      "text/plain": [
       "array([0.63885286, 0.09746316, 0.00085007, 0.24304517, 0.01978874])"
      ]
     },
     "execution_count": 15,
     "metadata": {},
     "output_type": "execute_result"
    }
   ],
   "source": [
    "from sklearn.datasets import make_classification\n",
    "from sklearn.ensemble import RandomForestClassifier\n",
    "X, y = make_classification(random_state=0, n_samples=100, n_features=5)\n",
    "X, y_new, indices = generate_semi_synth_dataset(X, y, is_classification=True, n_important=2, random_seed=0, permute=True)\n",
    "\n",
    "rf = RandomForestClassifier(n_estimators=500, oob_score=True, random_state=0)\n",
    "rf.fit(X, y_new)\n",
    "rf.unbiased_feature_importances_"
   ]
  },
  {
   "cell_type": "code",
   "execution_count": 16,
   "id": "bb5b0b6a",
   "metadata": {},
   "outputs": [
    {
     "data": {
      "text/plain": [
       "array([ 4.02288589e+01, -1.73235297e+00, -9.88675112e+00,  9.31744905e-03,\n",
       "       -2.76957554e+01])"
      ]
     },
     "execution_count": 16,
     "metadata": {},
     "output_type": "execute_result"
    }
   ],
   "source": [
    "from sklearn.datasets import make_regression\n",
    "from sklearn.ensemble import RandomForestRegressor\n",
    "X, y = make_regression(random_state=0, n_samples=100, n_features=5)\n",
    "X, y_new, indices = generate_semi_synth_dataset(X, y, is_classification=False, n_important=2, random_seed=0, permute=True)\n",
    "\n",
    "rf = RandomForestRegressor(n_estimators=500, oob_score=True, random_state=0)\n",
    "rf.fit(X, y_new)\n",
    "rf.unbiased_feature_importances_"
   ]
  },
  {
   "cell_type": "code",
   "execution_count": 7,
   "id": "bf2ac54d",
   "metadata": {},
   "outputs": [
    {
     "name": "stdout",
     "output_type": "stream",
     "text": [
      "[array([0.71633888, 0.07848916, 0.03729091, 0.08483667, 0.08304438]), array([0.68079759, 0.0191533 , 0.19518296, 0.06997218, 0.03489397]), array([0.68538438, 0.04208481, 0.07272958, 0.13228851, 0.06751273]), array([0.67031733, 0.0775241 , 0.03684996, 0.1664023 , 0.04890631]), array([0.77451017, 0.10400672, 0.01412961, 0.08069932, 0.02665417]), array([0.63962618, 0.04795704, 0.21615336, 0.06243922, 0.0338242 ]), array([0.78155324, 0.00637545, 0.05870887, 0.08121053, 0.0721519 ]), array([0.73565787, 0.01489017, 0.06257156, 0.16380918, 0.02307122]), array([0.72057638, 0.07109918, 0.05538417, 0.05113792, 0.10180234]), array([0.70672173, 0.07706056, 0.02481872, 0.1481023 , 0.04329669])]\n"
     ]
    },
    {
     "data": {
      "text/plain": [
       "array([0.71114838, 0.05386405, 0.07738197, 0.10408981, 0.05351579])"
      ]
     },
     "execution_count": 7,
     "metadata": {},
     "output_type": "execute_result"
    }
   ],
   "source": [
    "rf.feature_importances_"
   ]
  }
 ],
 "metadata": {
  "kernelspec": {
   "display_name": ".sklearn-env",
   "language": "python",
   "name": "python3"
  },
  "language_info": {
   "codemirror_mode": {
    "name": "ipython",
    "version": 3
   },
   "file_extension": ".py",
   "mimetype": "text/x-python",
   "name": "python",
   "nbconvert_exporter": "python",
   "pygments_lexer": "ipython3",
   "version": "3.12.3"
  }
 },
 "nbformat": 4,
 "nbformat_minor": 5
}
